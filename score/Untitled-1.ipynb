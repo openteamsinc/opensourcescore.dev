{
 "cells": [
  {
   "cell_type": "code",
   "execution_count": null,
   "id": "6909c28f",
   "metadata": {},
   "outputs": [],
   "source": []
  },
  {
   "cell_type": "code",
   "execution_count": 1,
   "id": "7aba7b3a",
   "metadata": {},
   "outputs": [],
   "source": [
    "import score"
   ]
  },
  {
   "cell_type": "code",
   "execution_count": 2,
   "id": "cd1ee10e",
   "metadata": {},
   "outputs": [
    {
     "name": "stdout",
     "output_type": "stream",
     "text": [
      "{'code': 'NO_SOURCE_UNSAFE_GIT_PROTOCOL', 'group': 'ANY', 'category': 'UNKNOWN', 'description': 'Unsafe Git Protocol', 'oss_risk': ''}\n",
      "{'code': 'REPO_EMPTY', 'group': 'ANY', 'category': 'PLACEHOLDER', 'description': 'Repository is empty', 'oss_risk': ''}\n",
      "{'code': 'NO_SOURCE_REPO_NOT_FOUND', 'group': 'ANY', 'category': 'UNKNOWN', 'description': 'Repo not found', 'oss_risk': ''}\n",
      "{'code': 'NO_SOURCE_GIT_TIMEOUT', 'group': 'ANY', 'category': 'UNKNOWN', 'description': 'Could not clone repo in a reasonable amount of time', 'oss_risk': ''}\n",
      "{'code': 'NO_SOURCE_OTHER_GIT_ERROR', 'group': 'ANY', 'category': 'UNKNOWN', 'description': 'Could not clone repo', 'oss_risk': ''}\n",
      "{'code': 'NO_LICENSE', 'group': 'LEGAL', 'category': 'MODERATE_RISK', 'description': 'No License Found', 'oss_risk': ''}\n",
      "{'code': 'LICENSE_NOT_OSS', 'group': 'LEGAL', 'category': 'MODERATE_RISK', 'description': 'License may not comply with open source standards', 'oss_risk': ''}\n",
      "{'code': 'LICENSE_LESS_PERMISSIVE', 'group': 'LEGAL', 'category': 'CAUTION_NEEDED', 'description': 'License may have usage restrictions. Review terms before implementation', 'oss_risk': ''}\n",
      "{'code': 'LICENSE_MODIFIED', 'group': 'LEGAL', 'category': 'CAUTION_NEEDED', 'description': 'License may have been modified from the original', 'oss_risk': ''}\n",
      "{'code': 'NO_SOURCE_INSECURE_CONNECTION', 'group': 'ANY', 'category': 'UNKNOWN', 'description': \"Source code scheme 'http://' is not secure\", 'oss_risk': ''}\n",
      "{'code': 'NO_SOURCE_LOCALHOST_URL', 'group': 'ANY', 'category': 'UNKNOWN', 'description': 'Source code location is a localhost url', 'oss_risk': ''}\n",
      "{'code': 'NO_SOURCE_INVALID_URL', 'group': 'ANY', 'category': 'UNKNOWN', 'description': 'Source code location is not a valid url', 'oss_risk': ''}\n",
      "{'code': 'FEW_MAX_MONTHLY_AUTHORS', 'group': 'HEALTH', 'category': 'MODERATE_RISK', 'description': 'Fewer than 3 authors have contributed to this repository', 'oss_risk': ''}\n",
      "{'code': 'ONE_AUTHOR_THIS_YEAR', 'group': 'HEALTH', 'category': 'CAUTION_NEEDED', 'description': 'Only one author has contributed to this repository in the last year', 'oss_risk': ''}\n",
      "{'code': 'LAST_COMMIT_OVER_5_YEARS', 'group': 'MATURITY', 'category': 'LEGACY', 'description': 'The last commit to source control was over 5 years ago', 'oss_risk': ''}\n",
      "{'code': 'NO_PROJECT_NAME', 'group': 'HEALTH', 'category': 'CAUTION_NEEDED', 'description': 'Could not confirm the published package name from the source code', 'oss_risk': ''}\n",
      "{'code': 'PROJECT_NOT_PUBLISHED', 'group': 'HEALTH', 'category': 'CAUTION_NEEDED', 'description': 'The Python package name from the source code is not a published package', 'oss_risk': ''}\n",
      "{'code': 'PACKAGE_NAME_MISMATCH', 'group': 'HEALTH', 'category': 'HIGH_RISK', 'description': 'published package has a different name than specified in the source code', 'oss_risk': ''}\n",
      "{'code': 'NO_COMMITS', 'group': 'ANY', 'category': 'PLACEHOLDER', 'description': 'There are no human commits in this repository', 'oss_risk': ''}\n",
      "{'code': 'FIRST_COMMIT_THIS_YEAR', 'group': 'MATURITY', 'category': 'EXPERIMENTAL', 'description': 'First commit in the last year', 'oss_risk': ''}\n",
      "{'code': 'LAST_COMMIT_OVER_A_YEAR', 'group': 'MATURITY', 'category': 'STALE', 'description': 'The last commit was over a year ago', 'oss_risk': ''}\n",
      "{'code': 'PACKAGE_SKEW_NOT_UPDATED', 'group': 'HEALTH', 'category': 'MODERATE_RISK', 'description': 'Package is at least a year behind the the source code', 'oss_risk': ''}\n",
      "{'code': 'PACKAGE_SKEW_NOT_RELEASED', 'group': 'HEALTH', 'category': 'MODERATE_RISK', 'description': 'Package is at least a year ahead of the source code', 'oss_risk': ''}\n",
      "{'code': 'PACKAGE_LICENSE_MISMATCH', 'group': 'LEGAL', 'category': 'MODERATE_RISK', 'description': 'Package license does not match the source code license', 'oss_risk': ''}\n",
      "{'code': 'PACKAGE_NO_LICENSE', 'group': 'LEGAL', 'category': 'MODERATE_RISK', 'description': 'Package was not published with a license', 'oss_risk': ''}\n",
      "{'code': 'NO_SOURCE_URL', 'group': 'ANY', 'category': 'UNKNOWN', 'description': 'The source code location could not be found', 'oss_risk': ''}\n",
      "{'code': 'VULNERABILITIES_CHECK_FAILED', 'group': 'SECURITY', 'category': 'UNKNOWN', 'description': 'Vulnerability check failed', 'oss_risk': ''}\n",
      "{'code': 'VULNERABILITIES_LONG_TIME_TO_FIX', 'group': 'SECURITY', 'category': 'CAUTION_NEEDED', 'description': \"Vulnerabilities don't typically get fixed within 600 days\", 'oss_risk': ''}\n",
      "{'code': 'VULNERABILITIES_RECENT', 'group': 'SECURITY', 'category': 'CAUTION_NEEDED', 'description': 'Multiple vulnerabilities have been reported in the last 600 days', 'oss_risk': ''}\n",
      "{'code': 'VULNERABILITIES_SEVERE', 'group': 'SECURITY', 'category': 'CAUTION_NEEDED', 'description': 'At least one high or critical severity vulnerability has been reported in the last 600', 'oss_risk': ''}\n",
      "{'code': 'HEALTHY', 'group': 'ANY', 'category': 'HEALTHY', 'description': 'Healthy', 'oss_risk': ''}\n"
     ]
    }
   ],
   "source": [
    "import score.notes2"
   ]
  },
  {
   "cell_type": "code",
   "execution_count": null,
   "id": "5f616038",
   "metadata": {},
   "outputs": [],
   "source": []
  }
 ],
 "metadata": {
  "kernelspec": {
   "display_name": "venv10",
   "language": "python",
   "name": "python3"
  },
  "language_info": {
   "codemirror_mode": {
    "name": "ipython",
    "version": 3
   },
   "file_extension": ".py",
   "mimetype": "text/x-python",
   "name": "python",
   "nbconvert_exporter": "python",
   "pygments_lexer": "ipython3",
   "version": "3.10.13"
  }
 },
 "nbformat": 4,
 "nbformat_minor": 5
}
